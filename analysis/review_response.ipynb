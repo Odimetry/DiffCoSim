{
 "metadata": {
  "language_info": {
   "codemirror_mode": {
    "name": "ipython",
    "version": 3
   },
   "file_extension": ".py",
   "mimetype": "text/x-python",
   "name": "python",
   "nbconvert_exporter": "python",
   "pygments_lexer": "ipython3",
   "version": "3.8.5"
  },
  "orig_nbformat": 2,
  "kernelspec": {
   "name": "python38564bit499665858cdd4960aa289696dbf1c73b",
   "display_name": "Python 3.8.5 64-bit",
   "language": "python"
  }
 },
 "nbformat": 4,
 "nbformat_minor": 2,
 "cells": [
  {
   "cell_type": "markdown",
   "source": [
    "Non-commercial Use License\n",
    "\n",
    "Copyright (c) 2021 Siemens Technology\n",
    "\n",
    "This software, along with associated documentation files (the \"Software\"), is \n",
    "provided for the sole purpose of providing Proof of Concept. Any commercial \n",
    "uses of the Software including, but not limited to, the rights to sublicense, \n",
    "and/or sell copies of the Software are prohibited and are subject to a \n",
    "separate licensing agreement with Siemens. This software may be proprietary \n",
    "to Siemens and may be covered by patent and copyright laws. Processes \n",
    "controlled by the Software are patent pending.\n",
    "\n",
    "The above copyright notice and this permission notice shall remain attached \n",
    "to the Software.\n",
    "\n",
    "THE SOFTWARE IS PROVIDED \"AS IS\", WITHOUT WARRANTY OF ANY KIND, EXPRESS OR \n",
    "IMPLIED, INCLUDING BUT NOT LIMITED TO THE WARRANTIES OF MERCHANTABILITY,\n",
    "FITNESS FOR A PARTICULAR PURPOSE AND NONINFRINGEMENT. IN NO EVENT SHALL THE \n",
    "AUTHORS OR COPYRIGHT HOLDERS BE LIABLE FOR ANY CLAIM, DAMAGES OR OTHER\n",
    "LIABILITY, WHETHER IN AN ACTION OF CONTRACT, TORT OR OTHERWISE, ARISING FROM, \n",
    "OUT OF OR IN CONNECTION WITH THE SOFTWARE OR THE USE OR OTHER DEALINGS IN THE\n",
    "SOFTWARE."
   ],
   "metadata": {}
  },
  {
   "cell_type": "code",
   "execution_count": 1,
   "source": [
    "import os, sys\n",
    "PARENT_DIR = os.path.dirname(os.path.abspath(''))\n",
    "sys.path.append(PARENT_DIR)\n",
    "import pickle\n",
    "from argparse import ArgumentParser\n",
    "\n",
    "from datasets.datasets import RigidBodyDataset\n",
    "from systems.rope_chain import RopeChain\n",
    "from systems.bouncing_disks import BouncingDisks\n",
    "from systems.bouncing_mass_points import BouncingMassPoints\n",
    "from systems.elastic_rope import ElasticRope\n",
    "from systems.gyroscope_with_wall import GyroscopeWithWall\n",
    "from pytorch_lightning import seed_everything\n",
    "\n",
    "import torch\n",
    "import torch.nn as nn\n",
    "import torch.nn.functional as F\n",
    "import json\n",
    "from trainer import Model\n",
    "\n",
    "seed_everything(0)\n",
    "\n",
    "import matplotlib.pyplot as plt\n",
    "# plt.switch_backend(\"TkAgg\")\n",
    "\n",
    "\n",
    "def str_to_class(classname):\n",
    "    return getattr(sys.modules[__name__], classname)\n",
    "\n",
    "def utils(model, n_p_1=0):\n",
    "    IP = \"IPR\" if hasattr(model.hparams, \"is_mujoco_like\") and model.hparams.is_mujoco_like else \"IP\"\n",
    "    name = model.hparams.network_class + \"_\" + IP + \"_\" + model.hparams.body_kwargs_file\n",
    "    # name = model.hparams.network_class + \"_\" + model.hparams.body_kwargs_file\n",
    "    print(name)\n",
    "    print(torch.exp(model.model.m_params[f\"{n_p_1}\"]))\n",
    "    print(\"mu:\", f\"{F.relu(model.model.mu_params)}\")\n",
    "    print(\"cor:\" + f\"{F.hardsigmoid(model.model.cor_params)}\")"
   ],
   "outputs": [],
   "metadata": {}
  },
  {
   "cell_type": "code",
   "execution_count": 2,
   "source": [
    "checkpoint_path = os.path.join(\n",
    "    PARENT_DIR,\n",
    "    \"logs\",\n",
    "    \"CP3_ground_homo_cor1_mu0_mujoco_CLNNwC_N800_0.05\",\n",
    "    \"version_0\",\n",
    "    \"epoch=875.ckpt\"\n",
    ") \n",
    "model = Model.load_from_checkpoint(checkpoint_path)\n",
    "utils(model)"
   ],
   "outputs": [
    {
     "output_type": "stream",
     "name": "stdout",
     "text": [
      "404 out of 800 trajectories contains collision.\n",
      "50 out of 100 trajectories contains collision.\n",
      "50 out of 100 trajectories contains collision.\n",
      "CLNNwC_IPR_CP3_ground_homo_cor1_mu0\n",
      "tensor([[1.1774],\n",
      "        [0.7588],\n",
      "        [0.8572]], grad_fn=<ExpBackward>)\n",
      "mu: tensor([0.0036], grad_fn=<ReluBackward0>)\n",
      "cor:tensor([1.], grad_fn=<HardsigmoidBackward>)\n"
     ]
    }
   ],
   "metadata": {}
  },
  {
   "cell_type": "code",
   "execution_count": 4,
   "source": [
    "checkpoint_path = os.path.join(\n",
    "    PARENT_DIR,\n",
    "    \"logs\",\n",
    "    \"CP3_ground_homo_cor1_mu0_mujoco_CLNNwC_N800_0.01\",\n",
    "    \"version_0\",\n",
    "    \"epoch=319.ckpt\"\n",
    ") \n",
    "model = Model.load_from_checkpoint(checkpoint_path)\n",
    "utils(model)"
   ],
   "outputs": [
    {
     "output_type": "stream",
     "name": "stderr",
     "text": [
      "/home/z0042y5x/.pyenv/versions/ode/lib/python3.8/site-packages/torch/serialization.py:649: SourceChangeWarning: source code of class 'models.impulse_mujoco.ImpulseSolverMujoco' has changed. you can retrieve the original source code by accessing the object's source attribute or set `torch.nn.Module.dump_patches = True` and use the patch tool to revert the changes.\n",
      "  warnings.warn(msg, SourceChangeWarning)\n",
      "404 out of 800 trajectories contains collision.\n",
      "50 out of 100 trajectories contains collision.\n",
      "50 out of 100 trajectories contains collision.\n",
      "CLNNwC_IPR_CP3_ground_homo_cor1_mu0\n",
      "tensor([[1.2073],\n",
      "        [0.7846],\n",
      "        [0.9072]], grad_fn=<ExpBackward>)\n",
      "mu: tensor([0.0038], grad_fn=<ReluBackward0>)\n",
      "cor:tensor([1.], grad_fn=<HardsigmoidBackward>)\n"
     ]
    }
   ],
   "metadata": {}
  },
  {
   "cell_type": "code",
   "execution_count": 5,
   "source": [
    "checkpoint_path = os.path.join(\n",
    "    PARENT_DIR,\n",
    "    \"logs\",\n",
    "    \"CP3_ground_homo_cor1_mu0_CLNNwC_N800_0.05\",\n",
    "    \"version_0\",\n",
    "    \"epoch=875.ckpt\"\n",
    ") \n",
    "model = Model.load_from_checkpoint(checkpoint_path)\n",
    "utils(model)"
   ],
   "outputs": [
    {
     "output_type": "stream",
     "name": "stderr",
     "text": [
      "/home/z0042y5x/.pyenv/versions/ode/lib/python3.8/site-packages/torch/serialization.py:649: SourceChangeWarning: source code of class 'models.impulse.ImpulseSolver' has changed. you can retrieve the original source code by accessing the object's source attribute or set `torch.nn.Module.dump_patches = True` and use the patch tool to revert the changes.\n",
      "  warnings.warn(msg, SourceChangeWarning)\n",
      "404 out of 800 trajectories contains collision.\n",
      "50 out of 100 trajectories contains collision.\n",
      "50 out of 100 trajectories contains collision.\n",
      "CLNNwC_IP_CP3_ground_homo_cor1_mu0\n",
      "tensor([[1.2502],\n",
      "        [0.8040],\n",
      "        [0.8926]], grad_fn=<ExpBackward>)\n",
      "mu: tensor([0.], grad_fn=<ReluBackward0>)\n",
      "cor:tensor([0.9978], grad_fn=<HardsigmoidBackward>)\n"
     ]
    }
   ],
   "metadata": {}
  },
  {
   "cell_type": "code",
   "execution_count": 7,
   "source": [
    "checkpoint_path = os.path.join(\n",
    "    PARENT_DIR,\n",
    "    \"logs\",\n",
    "    \"CP3_ground_homo_cor1_mu0_CLNNwC_N800_0.01\",\n",
    "    \"version_0\",\n",
    "    \"epoch=870.ckpt\"\n",
    ") \n",
    "model = Model.load_from_checkpoint(checkpoint_path)\n",
    "utils(model)"
   ],
   "outputs": [
    {
     "output_type": "stream",
     "name": "stdout",
     "text": [
      "404 out of 800 trajectories contains collision.\n",
      "50 out of 100 trajectories contains collision.\n",
      "50 out of 100 trajectories contains collision.\n",
      "CLNNwC_IP_CP3_ground_homo_cor1_mu0\n",
      "tensor([[1.2707],\n",
      "        [0.8268],\n",
      "        [0.9552]], grad_fn=<ExpBackward>)\n",
      "mu: tensor([0.0009], grad_fn=<ReluBackward0>)\n",
      "cor:tensor([1.], grad_fn=<HardsigmoidBackward>)\n"
     ]
    }
   ],
   "metadata": {}
  },
  {
   "cell_type": "code",
   "execution_count": 8,
   "source": [
    "checkpoint_path = os.path.join(\n",
    "    PARENT_DIR,\n",
    "    \"logs\",\n",
    "    \"CP3_ground_homo_cor0_mu0.5_mujoco_CLNNwC_N800_0.05\",\n",
    "    \"version_0\",\n",
    "    \"epoch=830.ckpt\"\n",
    ") \n",
    "model = Model.load_from_checkpoint(checkpoint_path)\n",
    "utils(model)"
   ],
   "outputs": [
    {
     "output_type": "stream",
     "name": "stdout",
     "text": [
      "404 out of 800 trajectories contains collision.\n",
      "49 out of 100 trajectories contains collision.\n",
      "49 out of 100 trajectories contains collision.\n",
      "CLNNwC_IPR_CP3_ground_homo_cor0_mu0.5\n",
      "tensor([[0.9240],\n",
      "        [1.8191],\n",
      "        [1.2828]], grad_fn=<ExpBackward>)\n",
      "mu: tensor([0.4618], grad_fn=<ReluBackward0>)\n",
      "cor:tensor([0.0608], grad_fn=<HardsigmoidBackward>)\n"
     ]
    }
   ],
   "metadata": {}
  },
  {
   "cell_type": "code",
   "execution_count": 9,
   "source": [
    "checkpoint_path = os.path.join(\n",
    "    PARENT_DIR,\n",
    "    \"logs\",\n",
    "    \"CP3_ground_homo_cor0_mu0.5_mujoco_CLNNwC_N800_0.01\",\n",
    "    \"version_0\",\n",
    "    \"epoch=902.ckpt\"\n",
    ") \n",
    "model = Model.load_from_checkpoint(checkpoint_path)\n",
    "utils(model)"
   ],
   "outputs": [
    {
     "output_type": "stream",
     "name": "stdout",
     "text": [
      "404 out of 800 trajectories contains collision.\n",
      "49 out of 100 trajectories contains collision.\n",
      "49 out of 100 trajectories contains collision.\n",
      "CLNNwC_IPR_CP3_ground_homo_cor0_mu0.5\n",
      "tensor([[0.9088],\n",
      "        [1.8225],\n",
      "        [1.3635]], grad_fn=<ExpBackward>)\n",
      "mu: tensor([0.4959], grad_fn=<ReluBackward0>)\n",
      "cor:tensor([0.0361], grad_fn=<HardsigmoidBackward>)\n"
     ]
    }
   ],
   "metadata": {}
  },
  {
   "cell_type": "code",
   "execution_count": 10,
   "source": [
    "checkpoint_path = os.path.join(\n",
    "    PARENT_DIR,\n",
    "    \"logs\",\n",
    "    \"CP3_ground_homo_cor0_mu0.5_CLNNwC_N800_0.01\",\n",
    "    \"version_0\",\n",
    "    \"epoch=902.ckpt\"\n",
    ") \n",
    "model = Model.load_from_checkpoint(checkpoint_path)\n",
    "utils(model)"
   ],
   "outputs": [
    {
     "output_type": "stream",
     "name": "stdout",
     "text": [
      "404 out of 800 trajectories contains collision.\n",
      "49 out of 100 trajectories contains collision.\n",
      "49 out of 100 trajectories contains collision.\n",
      "CLNNwC_IP_CP3_ground_homo_cor0_mu0.5\n",
      "tensor([[0.6022],\n",
      "        [1.2062],\n",
      "        [0.8939]], grad_fn=<ExpBackward>)\n",
      "mu: tensor([0.4951], grad_fn=<ReluBackward0>)\n",
      "cor:tensor([0.0180], grad_fn=<HardsigmoidBackward>)\n"
     ]
    }
   ],
   "metadata": {}
  },
  {
   "cell_type": "code",
   "execution_count": 11,
   "source": [
    "checkpoint_path = os.path.join(\n",
    "    PARENT_DIR,\n",
    "    \"logs\",\n",
    "    \"CP3_ground_homo_cor0_mu0.5_CLNNwC_N800_0.05\",\n",
    "    \"version_0\",\n",
    "    \"epoch=830.ckpt\"\n",
    ") \n",
    "model = Model.load_from_checkpoint(checkpoint_path)\n",
    "utils(model)"
   ],
   "outputs": [
    {
     "output_type": "stream",
     "name": "stdout",
     "text": [
      "404 out of 800 trajectories contains collision.\n",
      "49 out of 100 trajectories contains collision.\n",
      "49 out of 100 trajectories contains collision.\n",
      "CLNNwC_IP_CP3_ground_homo_cor0_mu0.5\n",
      "tensor([[0.6646],\n",
      "        [1.3282],\n",
      "        [0.7755]], grad_fn=<ExpBackward>)\n",
      "mu: tensor([0.4353], grad_fn=<ReluBackward0>)\n",
      "cor:tensor([0.0632], grad_fn=<HardsigmoidBackward>)\n"
     ]
    }
   ],
   "metadata": {}
  },
  {
   "cell_type": "code",
   "execution_count": 12,
   "source": [
    "checkpoint_path = os.path.join(\n",
    "    PARENT_DIR,\n",
    "    \"logs\",\n",
    "    \"BM5_homo_cor1_mu0_g0_CLNNwC_N800_0.05\",\n",
    "    \"version_0\",\n",
    "    \"epoch=693.ckpt\"\n",
    ") \n",
    "model = Model.load_from_checkpoint(checkpoint_path)\n",
    "utils(model)"
   ],
   "outputs": [
    {
     "output_type": "stream",
     "name": "stdout",
     "text": [
      "405 out of 800 trajectories contains collision.\n",
      "50 out of 100 trajectories contains collision.\n",
      "50 out of 100 trajectories contains collision.\n",
      "CLNNwC_IP_BM5_homo_cor1_mu0_g0\n",
      "tensor([[0.9198],\n",
      "        [1.0002],\n",
      "        [1.0530],\n",
      "        [1.1033],\n",
      "        [1.0299]], grad_fn=<ExpBackward>)\n",
      "mu: tensor([0.], grad_fn=<ReluBackward0>)\n",
      "cor:tensor([0.0373], grad_fn=<HardsigmoidBackward>)\n"
     ]
    }
   ],
   "metadata": {}
  },
  {
   "cell_type": "code",
   "execution_count": 13,
   "source": [
    "checkpoint_path = os.path.join(\n",
    "    PARENT_DIR,\n",
    "    \"logs\",\n",
    "    \"BM5_homo_cor1_mu0_g0_CLNNwC_N800_0.01\",\n",
    "    \"version_0\",\n",
    "    \"epoch=912.ckpt\"\n",
    ") \n",
    "model = Model.load_from_checkpoint(checkpoint_path)\n",
    "utils(model)"
   ],
   "outputs": [
    {
     "output_type": "stream",
     "name": "stdout",
     "text": [
      "405 out of 800 trajectories contains collision.\n",
      "50 out of 100 trajectories contains collision.\n",
      "50 out of 100 trajectories contains collision.\n",
      "CLNNwC_IP_BM5_homo_cor1_mu0_g0\n",
      "tensor([[0.9864],\n",
      "        [0.9772],\n",
      "        [1.0045],\n",
      "        [0.9771],\n",
      "        [0.9815]], grad_fn=<ExpBackward>)\n",
      "mu: tensor([0.], grad_fn=<ReluBackward0>)\n",
      "cor:tensor([0.9266], grad_fn=<HardsigmoidBackward>)\n"
     ]
    }
   ],
   "metadata": {}
  },
  {
   "cell_type": "code",
   "execution_count": 14,
   "source": [
    "checkpoint_path = os.path.join(\n",
    "    PARENT_DIR,\n",
    "    \"logs\",\n",
    "    \"BM5_homo_cor1_mu0_g0_mujoco_CLNNwC_N800_0.01\",\n",
    "    \"version_0\",\n",
    "    \"epoch=991.ckpt\"\n",
    ") \n",
    "model = Model.load_from_checkpoint(checkpoint_path)\n",
    "utils(model)"
   ],
   "outputs": [
    {
     "output_type": "stream",
     "name": "stdout",
     "text": [
      "405 out of 800 trajectories contains collision.\n",
      "50 out of 100 trajectories contains collision.\n",
      "50 out of 100 trajectories contains collision.\n",
      "CLNNwC_IPR_BM5_homo_cor1_mu0_g0\n",
      "tensor([[0.5413],\n",
      "        [0.5435],\n",
      "        [0.5364],\n",
      "        [0.5364],\n",
      "        [0.5395]], grad_fn=<ExpBackward>)\n",
      "mu: tensor([0.0024], grad_fn=<ReluBackward0>)\n",
      "cor:tensor([0.9712], grad_fn=<HardsigmoidBackward>)\n"
     ]
    }
   ],
   "metadata": {}
  },
  {
   "cell_type": "code",
   "execution_count": 15,
   "source": [
    "checkpoint_path = os.path.join(\n",
    "    PARENT_DIR,\n",
    "    \"logs\",\n",
    "    \"BM5_homo_cor1_mu0_g0_mujoco_CLNNwC_N800_0.049\",\n",
    "    \"version_0\",\n",
    "    \"epoch=88.ckpt\"\n",
    ") \n",
    "model = Model.load_from_checkpoint(checkpoint_path)\n",
    "utils(model)"
   ],
   "outputs": [
    {
     "output_type": "stream",
     "name": "stdout",
     "text": [
      "405 out of 800 trajectories contains collision.\n",
      "50 out of 100 trajectories contains collision.\n",
      "50 out of 100 trajectories contains collision.\n",
      "CLNNwC_IPR_BM5_homo_cor1_mu0_g0\n",
      "tensor([[1.0787],\n",
      "        [1.0472],\n",
      "        [1.0110],\n",
      "        [0.9468],\n",
      "        [1.1050]], grad_fn=<ExpBackward>)\n",
      "mu: tensor([0.4460], grad_fn=<ReluBackward0>)\n",
      "cor:tensor([0.2435], grad_fn=<HardsigmoidBackward>)\n"
     ]
    }
   ],
   "metadata": {}
  },
  {
   "cell_type": "code",
   "execution_count": 16,
   "source": [
    "checkpoint_path = os.path.join(\n",
    "    PARENT_DIR,\n",
    "    \"logs\",\n",
    "    \"CP3_ground_homo_cor0_mu0.5_mujoco_CLNNwC_N800\",\n",
    "    \"version_1\",\n",
    "    \"epoch=887.ckpt\"\n",
    ") \n",
    "model = Model.load_from_checkpoint(checkpoint_path)\n",
    "utils(model)"
   ],
   "outputs": [
    {
     "output_type": "stream",
     "name": "stdout",
     "text": [
      "404 out of 800 trajectories contains collision.\n",
      "49 out of 100 trajectories contains collision.\n",
      "49 out of 100 trajectories contains collision.\n",
      "CLNNwC_IPR_CP3_ground_homo_cor0_mu0.5\n",
      "tensor([[0.6685],\n",
      "        [1.3373],\n",
      "        [1.0028]], grad_fn=<ExpBackward>)\n",
      "mu: tensor([0.4998], grad_fn=<ReluBackward0>)\n",
      "cor:tensor([0.0067], grad_fn=<HardsigmoidBackward>)\n"
     ]
    }
   ],
   "metadata": {}
  },
  {
   "cell_type": "code",
   "execution_count": 17,
   "source": [
    "checkpoint_path = os.path.join(\n",
    "    PARENT_DIR,\n",
    "    \"logs\",\n",
    "    \"CP3_ground_homo_cor0_mu0.5_mujoco_CLNNwC_N800\",\n",
    "    \"version_2\",\n",
    "    \"epoch=903.ckpt\"\n",
    ") \n",
    "model = Model.load_from_checkpoint(checkpoint_path)\n",
    "utils(model)"
   ],
   "outputs": [
    {
     "output_type": "stream",
     "name": "stdout",
     "text": [
      "404 out of 800 trajectories contains collision.\n",
      "49 out of 100 trajectories contains collision.\n",
      "49 out of 100 trajectories contains collision.\n",
      "CLNNwC_IPR_CP3_ground_homo_cor0_mu0.5\n",
      "tensor([[0.9538],\n",
      "        [1.9069],\n",
      "        [1.4318]], grad_fn=<ExpBackward>)\n",
      "mu: tensor([0.5006], grad_fn=<ReluBackward0>)\n",
      "cor:tensor([0.1799], grad_fn=<HardsigmoidBackward>)\n"
     ]
    }
   ],
   "metadata": {}
  },
  {
   "cell_type": "code",
   "execution_count": 22,
   "source": [
    "checkpoint_path = os.path.join(\n",
    "    PARENT_DIR,\n",
    "    \"logs\",\n",
    "    \"CP3_ground_homo_cor0_mu0.5_mujoco_CLNNwC_N800\",\n",
    "    \"version_3\",\n",
    "    \"epoch=867.ckpt\"\n",
    ") \n",
    "model = Model.load_from_checkpoint(checkpoint_path)\n",
    "utils(model)\n",
    "F.softplus(model.model.impulse_solver.reg)"
   ],
   "outputs": [
    {
     "output_type": "stream",
     "name": "stdout",
     "text": [
      "404 out of 800 trajectories contains collision.\n",
      "49 out of 100 trajectories contains collision.\n",
      "49 out of 100 trajectories contains collision.\n",
      "CLNNwC_IPR_CP3_ground_homo_cor0_mu0.5\n",
      "tensor([[0.3854],\n",
      "        [0.7703],\n",
      "        [0.5791]], grad_fn=<ExpBackward>)\n",
      "mu: tensor([0.4970], grad_fn=<ReluBackward0>)\n",
      "cor:tensor([0.4525], grad_fn=<HardsigmoidBackward>)\n"
     ]
    },
    {
     "output_type": "execute_result",
     "data": {
      "text/plain": [
       "tensor([0.6150], grad_fn=<SoftplusBackward>)"
      ]
     },
     "metadata": {},
     "execution_count": 22
    }
   ],
   "metadata": {}
  },
  {
   "cell_type": "code",
   "execution_count": 24,
   "source": [
    "checkpoint_path = os.path.join(\n",
    "    PARENT_DIR,\n",
    "    \"logs\",\n",
    "    \"Gyro_homo_cor0.8_mu0.1_mujoco_CLNNwC_N800\",\n",
    "    \"version_1\",\n",
    "    \"epoch=937.ckpt\"\n",
    ") \n",
    "model = Model.load_from_checkpoint(checkpoint_path)\n",
    "utils(model, n_p_1=3)"
   ],
   "outputs": [
    {
     "output_type": "stream",
     "name": "stdout",
     "text": [
      "405 out of 800 trajectories contains collision.\n",
      "50 out of 100 trajectories contains collision.\n",
      "50 out of 100 trajectories contains collision.\n",
      "CLNNwC_IPR_Gyro_homo_cor0.8_mu0.1\n",
      "tensor([[0.8956, 0.9002, 0.9001, 0.8640]], grad_fn=<ExpBackward>)\n",
      "mu: tensor([0.0999], grad_fn=<ReluBackward0>)\n",
      "cor:tensor([0.8113], grad_fn=<HardsigmoidBackward>)\n"
     ]
    }
   ],
   "metadata": {}
  },
  {
   "cell_type": "code",
   "execution_count": 25,
   "source": [
    "checkpoint_path = os.path.join(\n",
    "    PARENT_DIR,\n",
    "    \"logs\",\n",
    "    \"Gyro_homo_cor0.8_mu0.1_mujoco_CLNNwC_N800\",\n",
    "    \"version_2\",\n",
    "    \"epoch=991.ckpt\"\n",
    ") \n",
    "model = Model.load_from_checkpoint(checkpoint_path)\n",
    "utils(model, n_p_1=3)"
   ],
   "outputs": [
    {
     "output_type": "stream",
     "name": "stdout",
     "text": [
      "405 out of 800 trajectories contains collision.\n",
      "50 out of 100 trajectories contains collision.\n",
      "50 out of 100 trajectories contains collision.\n",
      "CLNNwC_IPR_Gyro_homo_cor0.8_mu0.1\n",
      "tensor([[0.0859, 0.4267, 0.4265, 0.4939]], grad_fn=<ExpBackward>)\n",
      "mu: tensor([0.0995], grad_fn=<ReluBackward0>)\n",
      "cor:tensor([0.8855], grad_fn=<HardsigmoidBackward>)\n"
     ]
    }
   ],
   "metadata": {}
  },
  {
   "cell_type": "code",
   "execution_count": 27,
   "source": [
    "checkpoint_path = os.path.join(\n",
    "    PARENT_DIR,\n",
    "    \"logs\",\n",
    "    \"Gyro_homo_cor0.8_mu0.1_mujoco_CLNNwC_N800\",\n",
    "    \"version_3\",\n",
    "    \"epoch=964.ckpt\"\n",
    ") \n",
    "model = Model.load_from_checkpoint(checkpoint_path)\n",
    "utils(model, n_p_1=3)\n",
    "F.softplus(model.model.impulse_solver.reg)"
   ],
   "outputs": [
    {
     "output_type": "stream",
     "name": "stdout",
     "text": [
      "405 out of 800 trajectories contains collision.\n",
      "50 out of 100 trajectories contains collision.\n",
      "50 out of 100 trajectories contains collision.\n",
      "CLNNwC_IPR_Gyro_homo_cor0.8_mu0.1\n",
      "tensor([[0.1120, 0.3710, 0.3707, 0.4200]], grad_fn=<ExpBackward>)\n",
      "mu: tensor([0.0998], grad_fn=<ReluBackward0>)\n",
      "cor:tensor([0.8612], grad_fn=<HardsigmoidBackward>)\n"
     ]
    },
    {
     "output_type": "execute_result",
     "data": {
      "text/plain": [
       "tensor([0.0619], grad_fn=<SoftplusBackward>)"
      ]
     },
     "metadata": {},
     "execution_count": 27
    }
   ],
   "metadata": {}
  },
  {
   "cell_type": "code",
   "execution_count": 2,
   "source": [
    "checkpoint_path = os.path.join(\n",
    "    PARENT_DIR,\n",
    "    \"logs\",\n",
    "    \"CP3_ground_homo_cor0_mu0.5_mujoco_CLNNwC_N800\",\n",
    "    \"version_6\",\n",
    "    \"epoch=926.ckpt\"\n",
    ") \n",
    "model = Model.load_from_checkpoint(checkpoint_path)\n",
    "utils(model, n_p_1=0)"
   ],
   "outputs": [
    {
     "output_type": "stream",
     "name": "stdout",
     "text": [
      "404 out of 800 trajectories contains collision.\n",
      "49 out of 100 trajectories contains collision.\n",
      "49 out of 100 trajectories contains collision.\n",
      "CLNNwC_IPR_CP3_ground_homo_cor0_mu0.5\n",
      "tensor([[0.8381],\n",
      "        [1.6767],\n",
      "        [1.2578]], grad_fn=<ExpBackward>)\n",
      "mu: tensor([0.5004], grad_fn=<ReluBackward0>)\n",
      "cor:tensor([0.0209], grad_fn=<HardsigmoidBackward>)\n"
     ]
    }
   ],
   "metadata": {}
  },
  {
   "cell_type": "code",
   "execution_count": 3,
   "source": [
    "checkpoint_path = os.path.join(\n",
    "    PARENT_DIR,\n",
    "    \"logs\",\n",
    "    \"CP3_ground_homo_cor1_mu0_mujoco_CLNNwC_N800\",\n",
    "    \"version_6\",\n",
    "    \"epoch=978.ckpt\"\n",
    ") \n",
    "model = Model.load_from_checkpoint(checkpoint_path)\n",
    "utils(model, n_p_1=0)"
   ],
   "outputs": [
    {
     "output_type": "stream",
     "name": "stdout",
     "text": [
      "404 out of 800 trajectories contains collision.\n",
      "50 out of 100 trajectories contains collision.\n",
      "50 out of 100 trajectories contains collision.\n",
      "CLNNwC_IPR_CP3_ground_homo_cor1_mu0\n",
      "tensor([[0.8494],\n",
      "        [0.5525],\n",
      "        [0.6390]], grad_fn=<ExpBackward>)\n",
      "mu: tensor([0.0025], grad_fn=<ReluBackward0>)\n",
      "cor:tensor([1.], grad_fn=<HardsigmoidBackward>)\n"
     ]
    }
   ],
   "metadata": {}
  },
  {
   "cell_type": "code",
   "execution_count": 5,
   "source": [
    "checkpoint_path = os.path.join(\n",
    "    PARENT_DIR,\n",
    "    \"logs\",\n",
    "    \"BM5_homo_cor1_mu0_g0_mujoco_CLNNwC_N800\",\n",
    "    \"version_4\",\n",
    "    \"epoch=991.ckpt\"\n",
    ") \n",
    "model = Model.load_from_checkpoint(checkpoint_path)\n",
    "utils(model, n_p_1=0)"
   ],
   "outputs": [
    {
     "output_type": "stream",
     "name": "stdout",
     "text": [
      "405 out of 800 trajectories contains collision.\n",
      "50 out of 100 trajectories contains collision.\n",
      "50 out of 100 trajectories contains collision.\n",
      "CLNNwC_IPR_BM5_homo_cor1_mu0_g0\n",
      "tensor([[0.4035],\n",
      "        [0.4034],\n",
      "        [0.4036],\n",
      "        [0.4033],\n",
      "        [0.4035]], grad_fn=<ExpBackward>)\n",
      "mu: tensor([0.0002], grad_fn=<ReluBackward0>)\n",
      "cor:tensor([0.9999], grad_fn=<HardsigmoidBackward>)\n"
     ]
    }
   ],
   "metadata": {}
  },
  {
   "cell_type": "code",
   "execution_count": 7,
   "source": [
    "checkpoint_path = os.path.join(\n",
    "    PARENT_DIR,\n",
    "    \"logs\",\n",
    "    \"Gyro_homo_cor0.8_mu0.1_mujoco_CLNNwC_N800\",\n",
    "    \"version_10\",\n",
    "    \"epoch=698.ckpt\"\n",
    ") \n",
    "model = Model.load_from_checkpoint(checkpoint_path)\n",
    "utils(model, n_p_1=3)"
   ],
   "outputs": [
    {
     "output_type": "stream",
     "name": "stdout",
     "text": [
      "405 out of 800 trajectories contains collision.\n",
      "50 out of 100 trajectories contains collision.\n",
      "50 out of 100 trajectories contains collision.\n",
      "CLNNwC_IPR_Gyro_homo_cor0.8_mu0.1\n",
      "tensor([[0.1643, 0.6858, 0.6857, 0.7875]], grad_fn=<ExpBackward>)\n",
      "mu: tensor([0.0999], grad_fn=<ReluBackward0>)\n",
      "cor:tensor([0.8215], grad_fn=<HardsigmoidBackward>)\n"
     ]
    }
   ],
   "metadata": {}
  },
  {
   "cell_type": "code",
   "execution_count": 8,
   "source": [
    "checkpoint_path = os.path.join(\n",
    "    PARENT_DIR,\n",
    "    \"logs\",\n",
    "    \"Gyro_homo_cor0.8_mu0.1_mujoco_CLNNwC_N800\",\n",
    "    \"version_10\",\n",
    "    \"epoch=784.ckpt\"\n",
    ") \n",
    "model = Model.load_from_checkpoint(checkpoint_path)\n",
    "utils(model, n_p_1=3)"
   ],
   "outputs": [
    {
     "output_type": "stream",
     "name": "stdout",
     "text": [
      "405 out of 800 trajectories contains collision.\n",
      "50 out of 100 trajectories contains collision.\n",
      "50 out of 100 trajectories contains collision.\n",
      "CLNNwC_IPR_Gyro_homo_cor0.8_mu0.1\n",
      "tensor([[0.1673, 0.6941, 0.6939, 0.7965]], grad_fn=<ExpBackward>)\n",
      "mu: tensor([0.0998], grad_fn=<ReluBackward0>)\n",
      "cor:tensor([0.8222], grad_fn=<HardsigmoidBackward>)\n"
     ]
    }
   ],
   "metadata": {}
  },
  {
   "cell_type": "code",
   "execution_count": null,
   "source": [],
   "outputs": [],
   "metadata": {}
  }
 ]
}