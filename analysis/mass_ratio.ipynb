{
 "metadata": {
  "language_info": {
   "codemirror_mode": {
    "name": "ipython",
    "version": 3
   },
   "file_extension": ".py",
   "mimetype": "text/x-python",
   "name": "python",
   "nbconvert_exporter": "python",
   "pygments_lexer": "ipython3",
   "version": "3.8.5"
  },
  "orig_nbformat": 2,
  "kernelspec": {
   "name": "python385jvsc74a57bd04eaa4037f2196586fc93f68b84c3cc026c0cd069cee9f670b629dc387ed8dff0",
   "display_name": "Python 3.8.5 64-bit ('ode': pyenv)"
  },
  "metadata": {
   "interpreter": {
    "hash": "292bb1a861c739bd4be6f5413eb4a8d615eab42cfd351e6525700f7fb3630caa"
   }
  }
 },
 "nbformat": 4,
 "nbformat_minor": 2,
 "cells": [
  {
   "cell_type": "markdown",
   "source": [
    "Non-commercial Use License\n",
    "\n",
    "Copyright (c) 2021 Siemens Technology\n",
    "\n",
    "This software, along with associated documentation files (the \"Software\"), is \n",
    "provided for the sole purpose of providing Proof of Concept. Any commercial \n",
    "uses of the Software including, but not limited to, the rights to sublicense, \n",
    "and/or sell copies of the Software are prohibited and are subject to a \n",
    "separate licensing agreement with Siemens. This software may be proprietary \n",
    "to Siemens and may be covered by patent and copyright laws. Processes \n",
    "controlled by the Software are patent pending.\n",
    "\n",
    "The above copyright notice and this permission notice shall remain attached \n",
    "to the Software.\n",
    "\n",
    "THE SOFTWARE IS PROVIDED \"AS IS\", WITHOUT WARRANTY OF ANY KIND, EXPRESS OR \n",
    "IMPLIED, INCLUDING BUT NOT LIMITED TO THE WARRANTIES OF MERCHANTABILITY,\n",
    "FITNESS FOR A PARTICULAR PURPOSE AND NONINFRINGEMENT. IN NO EVENT SHALL THE \n",
    "AUTHORS OR COPYRIGHT HOLDERS BE LIABLE FOR ANY CLAIM, DAMAGES OR OTHER\n",
    "LIABILITY, WHETHER IN AN ACTION OF CONTRACT, TORT OR OTHERWISE, ARISING FROM, \n",
    "OUT OF OR IN CONNECTION WITH THE SOFTWARE OR THE USE OR OTHER DEALINGS IN THE\n",
    "SOFTWARE."
   ],
   "metadata": {}
  },
  {
   "cell_type": "code",
   "execution_count": 1,
   "source": [
    "import os, sys\n",
    "THIS_DIR = os.path.abspath('')\n",
    "PARENT_DIR = os.path.dirname(os.path.abspath(''))\n",
    "sys.path.append(PARENT_DIR)\n",
    "import pickle\n",
    "from argparse import ArgumentParser\n",
    "\n",
    "from datasets.datasets import RigidBodyDataset\n",
    "from systems.bouncing_mass_points import BouncingMassPoints\n",
    "\n",
    "import torch\n",
    "import torch.nn as nn\n",
    "import torch.nn.functional as F\n",
    "import json\n",
    "from trainer import Model"
   ],
   "outputs": [],
   "metadata": {}
  },
  {
   "cell_type": "code",
   "execution_count": 15,
   "source": [
    "checkpoint_path = os.path.join(\n",
    "    PARENT_DIR,\n",
    "    \"logs\",\n",
    "    \"BM5_homo_cor1_mu0_g0_CLNNwC_N800\",\n",
    "    \"version_0\",\n",
    "    \"epoch=892.ckpt\"\n",
    ") \n",
    "model = Model.load_from_checkpoint(checkpoint_path)\n",
    "learned_mass = torch.exp(model.model.m_params[\"0\"])\n",
    "learned_mass / learned_mass[0]"
   ],
   "outputs": [
    {
     "output_type": "stream",
     "name": "stdout",
     "text": [
      "405 out of 800 trajectories contains collision.\n",
      "50 out of 100 trajectories contains collision.\n",
      "50 out of 100 trajectories contains collision.\n"
     ]
    },
    {
     "output_type": "execute_result",
     "data": {
      "text/plain": [
       "tensor([[1.0000],\n",
       "        [1.0000],\n",
       "        [1.0000],\n",
       "        [1.0002],\n",
       "        [1.0003]], grad_fn=<DivBackward0>)"
      ]
     },
     "metadata": {},
     "execution_count": 15
    }
   ],
   "metadata": {}
  },
  {
   "cell_type": "code",
   "execution_count": 16,
   "source": [
    "checkpoint_path = os.path.join(\n",
    "    PARENT_DIR,\n",
    "    \"logs\",\n",
    "    \"BM5_homo_cor1_mu0_g0_mujoco_CLNNwC_N800\",\n",
    "    \"version_0\",\n",
    "    \"epoch=997.ckpt\"\n",
    ") \n",
    "model = Model.load_from_checkpoint(checkpoint_path)\n",
    "learned_mass = torch.exp(model.model.m_params[\"0\"])\n",
    "learned_mass / learned_mass[0]"
   ],
   "outputs": [
    {
     "output_type": "stream",
     "name": "stdout",
     "text": [
      "405 out of 800 trajectories contains collision.\n",
      "50 out of 100 trajectories contains collision.\n",
      "50 out of 100 trajectories contains collision.\n"
     ]
    },
    {
     "output_type": "execute_result",
     "data": {
      "text/plain": [
       "tensor([[1.0000],\n",
       "        [1.0000],\n",
       "        [0.9993],\n",
       "        [0.9991],\n",
       "        [0.9989]], grad_fn=<DivBackward0>)"
      ]
     },
     "metadata": {},
     "execution_count": 16
    }
   ],
   "metadata": {}
  },
  {
   "cell_type": "code",
   "execution_count": 17,
   "source": [
    "checkpoint_path = os.path.join(\n",
    "    PARENT_DIR,\n",
    "    \"logs\",\n",
    "    \"BM5_homo_cor1_mu0_g0_CHNNwC_N800\",\n",
    "    \"version_0\",\n",
    "    \"epoch=909.ckpt\"\n",
    ") \n",
    "model = Model.load_from_checkpoint(checkpoint_path)\n",
    "learned_mass = torch.exp(model.model.m_params[\"0\"])\n",
    "learned_mass / learned_mass[0]"
   ],
   "outputs": [
    {
     "output_type": "stream",
     "name": "stdout",
     "text": [
      "405 out of 800 trajectories contains collision.\n",
      "50 out of 100 trajectories contains collision.\n",
      "50 out of 100 trajectories contains collision.\n"
     ]
    },
    {
     "output_type": "execute_result",
     "data": {
      "text/plain": [
       "tensor([[1.0000],\n",
       "        [0.9998],\n",
       "        [1.0000],\n",
       "        [1.0000],\n",
       "        [1.0000]], grad_fn=<DivBackward0>)"
      ]
     },
     "metadata": {},
     "execution_count": 17
    }
   ],
   "metadata": {}
  },
  {
   "cell_type": "code",
   "execution_count": 18,
   "source": [
    "checkpoint_path = os.path.join(\n",
    "    PARENT_DIR,\n",
    "    \"logs\",\n",
    "    \"BM5_homo_cor1_mu0_g0_mujoco_CHNNwC_N800\",\n",
    "    \"version_0\",\n",
    "    \"epoch=997.ckpt\"\n",
    ") \n",
    "model = Model.load_from_checkpoint(checkpoint_path)\n",
    "learned_mass = torch.exp(model.model.m_params[\"0\"])\n",
    "learned_mass / learned_mass[0]"
   ],
   "outputs": [
    {
     "output_type": "stream",
     "name": "stdout",
     "text": [
      "405 out of 800 trajectories contains collision.\n",
      "50 out of 100 trajectories contains collision.\n",
      "50 out of 100 trajectories contains collision.\n"
     ]
    },
    {
     "output_type": "execute_result",
     "data": {
      "text/plain": [
       "tensor([[1.0000],\n",
       "        [1.0004],\n",
       "        [0.9994],\n",
       "        [0.9999],\n",
       "        [0.9997]], grad_fn=<DivBackward0>)"
      ]
     },
     "metadata": {},
     "execution_count": 18
    }
   ],
   "metadata": {}
  },
  {
   "cell_type": "code",
   "execution_count": 19,
   "source": [
    "checkpoint_path = os.path.join(\n",
    "    PARENT_DIR,\n",
    "    \"logs\",\n",
    "    \"BM5_hetero_g0_CLNNwC_N800\",\n",
    "    \"version_0\",\n",
    "    \"epoch=956.ckpt\"\n",
    ") \n",
    "model = Model.load_from_checkpoint(checkpoint_path)\n",
    "learned_mass = torch.exp(model.model.m_params[\"0\"])\n",
    "learned_mass / learned_mass[0]"
   ],
   "outputs": [
    {
     "output_type": "stream",
     "name": "stdout",
     "text": [
      "406 out of 800 trajectories contains collision.\n",
      "50 out of 100 trajectories contains collision.\n",
      "50 out of 100 trajectories contains collision.\n"
     ]
    },
    {
     "output_type": "execute_result",
     "data": {
      "text/plain": [
       "tensor([[ 1.0000],\n",
       "        [ 2.0001],\n",
       "        [ 6.0036],\n",
       "        [ 8.0014],\n",
       "        [10.0024]], grad_fn=<DivBackward0>)"
      ]
     },
     "metadata": {},
     "execution_count": 19
    }
   ],
   "metadata": {}
  },
  {
   "cell_type": "code",
   "execution_count": 20,
   "source": [
    "checkpoint_path = os.path.join(\n",
    "    PARENT_DIR,\n",
    "    \"logs\",\n",
    "    \"BM5_hetero_g0_mujoco_CLNNwC_N800\",\n",
    "    \"version_0\",\n",
    "    \"epoch=870.ckpt\"\n",
    ") \n",
    "model = Model.load_from_checkpoint(checkpoint_path)\n",
    "learned_mass = torch.exp(model.model.m_params[\"0\"])\n",
    "learned_mass / learned_mass[0]"
   ],
   "outputs": [
    {
     "output_type": "stream",
     "name": "stdout",
     "text": [
      "405 out of 800 trajectories contains collision.\n",
      "50 out of 100 trajectories contains collision.\n",
      "50 out of 100 trajectories contains collision.\n"
     ]
    },
    {
     "output_type": "execute_result",
     "data": {
      "text/plain": [
       "tensor([[1.0000],\n",
       "        [1.9998],\n",
       "        [6.0004],\n",
       "        [8.0033],\n",
       "        [9.9997]], grad_fn=<DivBackward0>)"
      ]
     },
     "metadata": {},
     "execution_count": 20
    }
   ],
   "metadata": {}
  },
  {
   "cell_type": "code",
   "execution_count": 21,
   "source": [
    "checkpoint_path = os.path.join(\n",
    "    PARENT_DIR,\n",
    "    \"logs\",\n",
    "    \"BM5_hetero_g0_CHNNwC_N800\",\n",
    "    \"version_0\",\n",
    "    \"epoch=956.ckpt\"\n",
    ") \n",
    "model = Model.load_from_checkpoint(checkpoint_path)\n",
    "learned_mass = torch.exp(model.model.m_params[\"0\"])\n",
    "learned_mass / learned_mass[0]"
   ],
   "outputs": [
    {
     "output_type": "stream",
     "name": "stdout",
     "text": [
      "406 out of 800 trajectories contains collision.\n",
      "50 out of 100 trajectories contains collision.\n",
      "50 out of 100 trajectories contains collision.\n"
     ]
    },
    {
     "output_type": "execute_result",
     "data": {
      "text/plain": [
       "tensor([[ 1.0000],\n",
       "        [ 2.0005],\n",
       "        [ 6.0020],\n",
       "        [ 8.0015],\n",
       "        [10.0029]], grad_fn=<DivBackward0>)"
      ]
     },
     "metadata": {},
     "execution_count": 21
    }
   ],
   "metadata": {}
  },
  {
   "cell_type": "code",
   "execution_count": 22,
   "source": [
    "checkpoint_path = os.path.join(\n",
    "    PARENT_DIR,\n",
    "    \"logs\",\n",
    "    \"BM5_hetero_g0_mujoco_CHNNwC_N800\",\n",
    "    \"version_0\",\n",
    "    \"epoch=870.ckpt\"\n",
    ") \n",
    "model = Model.load_from_checkpoint(checkpoint_path)\n",
    "learned_mass = torch.exp(model.model.m_params[\"0\"])\n",
    "learned_mass / learned_mass[0]"
   ],
   "outputs": [
    {
     "output_type": "stream",
     "name": "stdout",
     "text": [
      "405 out of 800 trajectories contains collision.\n",
      "50 out of 100 trajectories contains collision.\n",
      "50 out of 100 trajectories contains collision.\n"
     ]
    },
    {
     "output_type": "execute_result",
     "data": {
      "text/plain": [
       "tensor([[ 1.0000],\n",
       "        [ 2.0002],\n",
       "        [ 6.0001],\n",
       "        [ 7.9985],\n",
       "        [10.0010]], grad_fn=<DivBackward0>)"
      ]
     },
     "metadata": {},
     "execution_count": 22
    }
   ],
   "metadata": {}
  },
  {
   "cell_type": "code",
   "execution_count": 6,
   "source": [
    "checkpoint_path = os.path.join(\n",
    "    PARENT_DIR,\n",
    "    \"logs\",\n",
    "    \"BD5_hetero_g0_CLNNwC_N800\",\n",
    "    \"version_2\",\n",
    "    \"epoch=990.ckpt\"\n",
    ") \n",
    "model = Model.load_from_checkpoint(checkpoint_path)"
   ],
   "outputs": [
    {
     "output_type": "stream",
     "name": "stdout",
     "text": [
      "405 out of 800 trajectories contains collision.\n",
      "50 out of 100 trajectories contains collision.\n",
      "50 out of 100 trajectories contains collision.\n"
     ]
    }
   ],
   "metadata": {}
  },
  {
   "cell_type": "code",
   "execution_count": 7,
   "source": [
    "model.model.m_params"
   ],
   "outputs": [
    {
     "output_type": "execute_result",
     "data": {
      "text/plain": [
       "ParameterDict(  (2): Parameter containing: [torch.FloatTensor of size 5x3])"
      ]
     },
     "metadata": {},
     "execution_count": 7
    }
   ],
   "metadata": {}
  },
  {
   "cell_type": "code",
   "execution_count": 8,
   "source": [
    "learned_mass = torch.exp(model.model.m_params[\"2\"])"
   ],
   "outputs": [],
   "metadata": {}
  },
  {
   "cell_type": "code",
   "execution_count": 9,
   "source": [
    "learned_mass / learned_mass[0,0]"
   ],
   "outputs": [
    {
     "output_type": "execute_result",
     "data": {
      "text/plain": [
       "tensor([[1.0000e+00, 1.0746e-02, 1.0318e-02],\n",
       "        [3.3003e+00, 2.2107e-02, 1.5545e-02],\n",
       "        [1.0510e+01, 3.2041e-02, 2.9512e-02],\n",
       "        [1.4014e+01, 3.9885e-02, 4.2086e-02],\n",
       "        [1.7804e+01, 5.2160e-02, 6.3105e-02]], grad_fn=<DivBackward0>)"
      ]
     },
     "metadata": {},
     "execution_count": 9
    }
   ],
   "metadata": {}
  },
  {
   "cell_type": "code",
   "execution_count": 10,
   "source": [
    "checkpoint_path = os.path.join(\n",
    "    PARENT_DIR,\n",
    "    \"logs\",\n",
    "    \"CP3_ground_homo_cor1_mu0_CLNNwC_N800\",\n",
    "    \"version_0\",\n",
    "    \"epoch=939.ckpt\"\n",
    ") \n",
    "model = Model.load_from_checkpoint(checkpoint_path)"
   ],
   "outputs": [
    {
     "output_type": "stream",
     "name": "stdout",
     "text": [
      "404 out of 800 trajectories contains collision.\n",
      "50 out of 100 trajectories contains collision.\n",
      "50 out of 100 trajectories contains collision.\n"
     ]
    }
   ],
   "metadata": {}
  },
  {
   "cell_type": "code",
   "execution_count": 11,
   "source": [
    "learned_mass = torch.exp(model.model.m_params[\"0\"])\n",
    "learned_mass / learned_mass[0]"
   ],
   "outputs": [
    {
     "output_type": "execute_result",
     "data": {
      "text/plain": [
       "tensor([[1.0000],\n",
       "        [0.6500],\n",
       "        [0.7502]], grad_fn=<DivBackward0>)"
      ]
     },
     "metadata": {},
     "execution_count": 11
    }
   ],
   "metadata": {}
  },
  {
   "cell_type": "code",
   "execution_count": 23,
   "source": [
    "checkpoint_path = os.path.join(\n",
    "    PARENT_DIR,\n",
    "    \"logs\",\n",
    "    \"CP3_ground_homo_cor1_mu0_mujoco_CLNNwC_N800\",\n",
    "    \"version_0\",\n",
    "    \"epoch=994.ckpt\"\n",
    ") \n",
    "model = Model.load_from_checkpoint(checkpoint_path)\n",
    "learned_mass = torch.exp(model.model.m_params[\"0\"])\n",
    "learned_mass / learned_mass[0]"
   ],
   "outputs": [
    {
     "output_type": "stream",
     "name": "stdout",
     "text": [
      "404 out of 800 trajectories contains collision.\n",
      "50 out of 100 trajectories contains collision.\n",
      "50 out of 100 trajectories contains collision.\n"
     ]
    },
    {
     "output_type": "execute_result",
     "data": {
      "text/plain": [
       "tensor([[1.0000],\n",
       "        [0.6500],\n",
       "        [0.7521]], grad_fn=<DivBackward0>)"
      ]
     },
     "metadata": {},
     "execution_count": 23
    }
   ],
   "metadata": {}
  },
  {
   "cell_type": "code",
   "execution_count": 24,
   "source": [
    "checkpoint_path = os.path.join(\n",
    "    PARENT_DIR,\n",
    "    \"logs\",\n",
    "    \"CP3_ground_homo_cor1_mu0_CHNNwC_N800\",\n",
    "    \"version_1\",\n",
    "    \"epoch=950.ckpt\"\n",
    ") \n",
    "model = Model.load_from_checkpoint(checkpoint_path)\n",
    "learned_mass = torch.exp(model.model.m_params[\"0\"])\n",
    "learned_mass / learned_mass[0]"
   ],
   "outputs": [
    {
     "output_type": "stream",
     "name": "stdout",
     "text": [
      "404 out of 800 trajectories contains collision.\n",
      "50 out of 100 trajectories contains collision.\n",
      "50 out of 100 trajectories contains collision.\n"
     ]
    },
    {
     "output_type": "execute_result",
     "data": {
      "text/plain": [
       "tensor([[1.0000],\n",
       "        [0.6499],\n",
       "        [0.7500]], grad_fn=<DivBackward0>)"
      ]
     },
     "metadata": {},
     "execution_count": 24
    }
   ],
   "metadata": {}
  },
  {
   "cell_type": "code",
   "execution_count": 25,
   "source": [
    "checkpoint_path = os.path.join(\n",
    "    PARENT_DIR,\n",
    "    \"logs\",\n",
    "    \"CP3_ground_homo_cor1_mu0_mujoco_CHNNwC_N800\",\n",
    "    \"version_0\",\n",
    "    \"epoch=948.ckpt\"\n",
    ") \n",
    "model = Model.load_from_checkpoint(checkpoint_path)\n",
    "learned_mass = torch.exp(model.model.m_params[\"0\"])\n",
    "learned_mass / learned_mass[0]"
   ],
   "outputs": [
    {
     "output_type": "stream",
     "name": "stdout",
     "text": [
      "404 out of 800 trajectories contains collision.\n",
      "50 out of 100 trajectories contains collision.\n",
      "50 out of 100 trajectories contains collision.\n"
     ]
    },
    {
     "output_type": "execute_result",
     "data": {
      "text/plain": [
       "tensor([[1.0000],\n",
       "        [0.6503],\n",
       "        [0.7526]], grad_fn=<DivBackward0>)"
      ]
     },
     "metadata": {},
     "execution_count": 25
    }
   ],
   "metadata": {}
  },
  {
   "cell_type": "code",
   "execution_count": 26,
   "source": [
    "checkpoint_path = os.path.join(\n",
    "    PARENT_DIR,\n",
    "    \"logs\",\n",
    "    \"CP3_ground_homo_cor0_mu0.5_CLNNwC_N800\",\n",
    "    \"version_0\",\n",
    "    \"epoch=969.ckpt\"\n",
    ") \n",
    "model = Model.load_from_checkpoint(checkpoint_path)\n",
    "learned_mass = torch.exp(model.model.m_params[\"0\"])\n",
    "learned_mass / learned_mass[0]"
   ],
   "outputs": [
    {
     "output_type": "stream",
     "name": "stdout",
     "text": [
      "404 out of 800 trajectories contains collision.\n",
      "49 out of 100 trajectories contains collision.\n",
      "49 out of 100 trajectories contains collision.\n"
     ]
    },
    {
     "output_type": "execute_result",
     "data": {
      "text/plain": [
       "tensor([[1.0000],\n",
       "        [2.0006],\n",
       "        [1.4990]], grad_fn=<DivBackward0>)"
      ]
     },
     "metadata": {},
     "execution_count": 26
    }
   ],
   "metadata": {}
  },
  {
   "cell_type": "code",
   "execution_count": 27,
   "source": [
    "checkpoint_path = os.path.join(\n",
    "    PARENT_DIR,\n",
    "    \"logs\",\n",
    "    \"CP3_ground_homo_cor0_mu0.5_mujoco_CLNNwC_N800\",\n",
    "    \"version_0\",\n",
    "    \"epoch=979.ckpt\"\n",
    ") \n",
    "model = Model.load_from_checkpoint(checkpoint_path)\n",
    "learned_mass = torch.exp(model.model.m_params[\"0\"])\n",
    "learned_mass / learned_mass[0]"
   ],
   "outputs": [
    {
     "output_type": "stream",
     "name": "stdout",
     "text": [
      "404 out of 800 trajectories contains collision.\n",
      "49 out of 100 trajectories contains collision.\n",
      "49 out of 100 trajectories contains collision.\n"
     ]
    },
    {
     "output_type": "execute_result",
     "data": {
      "text/plain": [
       "tensor([[1.0000],\n",
       "        [2.0002],\n",
       "        [1.5001]], grad_fn=<DivBackward0>)"
      ]
     },
     "metadata": {},
     "execution_count": 27
    }
   ],
   "metadata": {}
  },
  {
   "cell_type": "code",
   "execution_count": 28,
   "source": [
    "checkpoint_path = os.path.join(\n",
    "    PARENT_DIR,\n",
    "    \"logs\",\n",
    "    \"CP3_ground_homo_cor0_mu0.5_CHNNwC_N800\",\n",
    "    \"version_0\",\n",
    "    \"epoch=983.ckpt\"\n",
    ") \n",
    "model = Model.load_from_checkpoint(checkpoint_path)\n",
    "learned_mass = torch.exp(model.model.m_params[\"0\"])\n",
    "learned_mass / learned_mass[0]"
   ],
   "outputs": [
    {
     "output_type": "stream",
     "name": "stdout",
     "text": [
      "404 out of 800 trajectories contains collision.\n",
      "49 out of 100 trajectories contains collision.\n",
      "49 out of 100 trajectories contains collision.\n"
     ]
    },
    {
     "output_type": "execute_result",
     "data": {
      "text/plain": [
       "tensor([[1.0000],\n",
       "        [1.9996],\n",
       "        [1.4994]], grad_fn=<DivBackward0>)"
      ]
     },
     "metadata": {},
     "execution_count": 28
    }
   ],
   "metadata": {}
  },
  {
   "cell_type": "code",
   "execution_count": 29,
   "source": [
    "checkpoint_path = os.path.join(\n",
    "    PARENT_DIR,\n",
    "    \"logs\",\n",
    "    \"CP3_ground_homo_cor0_mu0.5_mujoco_CHNNwC_N800\",\n",
    "    \"version_0\",\n",
    "    \"epoch=981.ckpt\"\n",
    ") \n",
    "model = Model.load_from_checkpoint(checkpoint_path)\n",
    "learned_mass = torch.exp(model.model.m_params[\"0\"])\n",
    "learned_mass / learned_mass[0]"
   ],
   "outputs": [
    {
     "output_type": "stream",
     "name": "stdout",
     "text": [
      "404 out of 800 trajectories contains collision.\n",
      "49 out of 100 trajectories contains collision.\n",
      "49 out of 100 trajectories contains collision.\n"
     ]
    },
    {
     "output_type": "execute_result",
     "data": {
      "text/plain": [
       "tensor([[1.0000],\n",
       "        [2.0009],\n",
       "        [1.5009]], grad_fn=<DivBackward0>)"
      ]
     },
     "metadata": {},
     "execution_count": 29
    }
   ],
   "metadata": {}
  },
  {
   "cell_type": "code",
   "execution_count": 12,
   "source": [
    "checkpoint_path = os.path.join(\n",
    "    PARENT_DIR,\n",
    "    \"logs\",\n",
    "    \"Gyro_homo_cor1_mu0_CLNNwC_N800\",\n",
    "    \"version_1\",\n",
    "    \"last.ckpt\"\n",
    ") \n",
    "model = Model.load_from_checkpoint(checkpoint_path)"
   ],
   "outputs": [
    {
     "output_type": "stream",
     "name": "stderr",
     "text": [
      "/home/desmond/.pyenv/versions/ode/lib/python3.8/site-packages/torch/serialization.py:658: SourceChangeWarning: source code of class 'models.impulse.ImpulseSolver' has changed. you can retrieve the original source code by accessing the object's source attribute or set `torch.nn.Module.dump_patches = True` and use the patch tool to revert the changes.\n",
      "  warnings.warn(msg, SourceChangeWarning)\n",
      "405 out of 800 trajectories contains collision.\n",
      "50 out of 100 trajectories contains collision.\n",
      "50 out of 100 trajectories contains collision.\n"
     ]
    }
   ],
   "metadata": {}
  },
  {
   "cell_type": "code",
   "execution_count": 13,
   "source": [
    "learned_mass = torch.exp(model.model.m_params[\"3\"])\n",
    "learned_mass / learned_mass[0,0]"
   ],
   "outputs": [
    {
     "output_type": "execute_result",
     "data": {
      "text/plain": [
       "tensor([[1.0000, 0.9288, 0.9286, 0.8722]], grad_fn=<DivBackward0>)"
      ]
     },
     "metadata": {},
     "execution_count": 13
    }
   ],
   "metadata": {}
  },
  {
   "cell_type": "code",
   "execution_count": null,
   "source": [],
   "outputs": [],
   "metadata": {}
  }
 ]
}